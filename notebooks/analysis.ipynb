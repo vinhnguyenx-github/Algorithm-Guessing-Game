{
 "cells": [
  {
   "cell_type": "code",
   "execution_count": 15,
   "id": "086cce74",
   "metadata": {},
   "outputs": [],
   "source": [
    "import os\n",
    "import pandas as pd\n",
    "import matplotlib.pyplot as plt"
   ]
  },
  {
   "cell_type": "code",
   "execution_count": 16,
   "id": "4eedebe3",
   "metadata": {},
   "outputs": [
    {
     "name": "stdout",
     "output_type": "stream",
     "text": [
      "Total attempts: 6\n"
     ]
    },
    {
     "data": {
      "text/html": [
       "<div>\n",
       "<style scoped>\n",
       "    .dataframe tbody tr th:only-of-type {\n",
       "        vertical-align: middle;\n",
       "    }\n",
       "\n",
       "    .dataframe tbody tr th {\n",
       "        vertical-align: top;\n",
       "    }\n",
       "\n",
       "    .dataframe thead th {\n",
       "        text-align: right;\n",
       "    }\n",
       "</style>\n",
       "<table border=\"1\" class=\"dataframe\">\n",
       "  <thead>\n",
       "    <tr style=\"text-align: right;\">\n",
       "      <th></th>\n",
       "      <th>attempt</th>\n",
       "      <th>tries</th>\n",
       "    </tr>\n",
       "  </thead>\n",
       "  <tbody>\n",
       "    <tr>\n",
       "      <th>0</th>\n",
       "      <td>attempt1.csv</td>\n",
       "      <td>6</td>\n",
       "    </tr>\n",
       "    <tr>\n",
       "      <th>1</th>\n",
       "      <td>attempt2.csv</td>\n",
       "      <td>2</td>\n",
       "    </tr>\n",
       "    <tr>\n",
       "      <th>2</th>\n",
       "      <td>attempt3.csv</td>\n",
       "      <td>2</td>\n",
       "    </tr>\n",
       "    <tr>\n",
       "      <th>3</th>\n",
       "      <td>attempt4.csv</td>\n",
       "      <td>4</td>\n",
       "    </tr>\n",
       "    <tr>\n",
       "      <th>4</th>\n",
       "      <td>attempt5.csv</td>\n",
       "      <td>4</td>\n",
       "    </tr>\n",
       "    <tr>\n",
       "      <th>5</th>\n",
       "      <td>attempt6.csv</td>\n",
       "      <td>3</td>\n",
       "    </tr>\n",
       "  </tbody>\n",
       "</table>\n",
       "</div>"
      ],
      "text/plain": [
       "        attempt  tries\n",
       "0  attempt1.csv      6\n",
       "1  attempt2.csv      2\n",
       "2  attempt3.csv      2\n",
       "3  attempt4.csv      4\n",
       "4  attempt5.csv      4\n",
       "5  attempt6.csv      3"
      ]
     },
     "metadata": {},
     "output_type": "display_data"
    },
    {
     "name": "stdout",
     "output_type": "stream",
     "text": [
      "Average tries per attempt: 3.5\n"
     ]
    }
   ],
   "source": [
    "data_dir = \"../data\"\n",
    "\n",
    "attempt_files = [f for f in os.listdir(data_dir) if f.startswith(\"attempt\") and f.endswith(\".csv\")]\n",
    "\n",
    "summary = []\n",
    "\n",
    "for f in attempt_files:\n",
    "    path = os.path.join(data_dir, f)\n",
    "    try:\n",
    "        df = pd.read_csv(path)\n",
    "        summary.append({\"attempt\": f, \"tries\": len(df)})\n",
    "    except Exception as e:\n",
    "        summary.append({\"attempt\": f, \"tries\": None, \"error\": str(e)})\n",
    "\n",
    "summary_df = pd.DataFrame(summary).sort_values(\"attempt\").reset_index(drop=True)\n",
    "\n",
    "print(f\"Total attempts: {len(summary_df)}\")\n",
    "display(summary_df.head(10))   # first 10\n",
    "print(\"Average tries per attempt:\", summary_df['tries'].mean())\n"
   ]
  },
  {
   "cell_type": "code",
   "execution_count": 17,
   "id": "042a75a2",
   "metadata": {},
   "outputs": [
    {
     "name": "stdout",
     "output_type": "stream",
     "text": [
      "Overall average reaction time: 3.512 seconds\n",
      "\n"
     ]
    },
    {
     "data": {
      "text/html": [
       "<div>\n",
       "<style scoped>\n",
       "    .dataframe tbody tr th:only-of-type {\n",
       "        vertical-align: middle;\n",
       "    }\n",
       "\n",
       "    .dataframe tbody tr th {\n",
       "        vertical-align: top;\n",
       "    }\n",
       "\n",
       "    .dataframe thead th {\n",
       "        text-align: right;\n",
       "    }\n",
       "</style>\n",
       "<table border=\"1\" class=\"dataframe\">\n",
       "  <thead>\n",
       "    <tr style=\"text-align: right;\">\n",
       "      <th></th>\n",
       "      <th>attempt_file</th>\n",
       "      <th>avg_time</th>\n",
       "    </tr>\n",
       "  </thead>\n",
       "  <tbody>\n",
       "    <tr>\n",
       "      <th>0</th>\n",
       "      <td>attempt1.csv</td>\n",
       "      <td>1.390667</td>\n",
       "    </tr>\n",
       "    <tr>\n",
       "      <th>1</th>\n",
       "      <td>attempt2.csv</td>\n",
       "      <td>6.797000</td>\n",
       "    </tr>\n",
       "    <tr>\n",
       "      <th>2</th>\n",
       "      <td>attempt3.csv</td>\n",
       "      <td>10.811000</td>\n",
       "    </tr>\n",
       "    <tr>\n",
       "      <th>3</th>\n",
       "      <td>attempt4.csv</td>\n",
       "      <td>0.762500</td>\n",
       "    </tr>\n",
       "    <tr>\n",
       "      <th>4</th>\n",
       "      <td>attempt5.csv</td>\n",
       "      <td>3.595500</td>\n",
       "    </tr>\n",
       "  </tbody>\n",
       "</table>\n",
       "</div>"
      ],
      "text/plain": [
       "   attempt_file   avg_time\n",
       "0  attempt1.csv   1.390667\n",
       "1  attempt2.csv   6.797000\n",
       "2  attempt3.csv  10.811000\n",
       "3  attempt4.csv   0.762500\n",
       "4  attempt5.csv   3.595500"
      ]
     },
     "metadata": {},
     "output_type": "display_data"
    }
   ],
   "source": [
    "# Combine all attempt files\n",
    "all_data = []\n",
    "\n",
    "for f in attempt_files:\n",
    "    path = os.path.join(data_dir, f)\n",
    "    try:\n",
    "        df = pd.read_csv(path)\n",
    "        df[\"attempt_file\"] = f\n",
    "        all_data.append(df)\n",
    "    except Exception as e:\n",
    "        print(f\"Skipping {f}: {e}\")\n",
    "\n",
    "if all_data:\n",
    "    combined = pd.concat(all_data, ignore_index=True)\n",
    "\n",
    "    # overall average\n",
    "    overall_avg = combined[\"time\"].mean()\n",
    "    print(f\"Overall average reaction time: {overall_avg:.3f} seconds\\n\")\n",
    "\n",
    "    # per-attempt averages\n",
    "    per_attempt_avg = (\n",
    "        combined.groupby(\"attempt_file\")[\"time\"]\n",
    "        .mean()\n",
    "        .reset_index(name=\"avg_time\")\n",
    "        .sort_values(\"attempt_file\")\n",
    "    )\n",
    "\n",
    "    display(per_attempt_avg.head(5))\n",
    "else:\n",
    "    print(\"No data found.\")\n"
   ]
  },
  {
   "cell_type": "code",
   "execution_count": 18,
   "id": "40c0149a",
   "metadata": {},
   "outputs": [
    {
     "data": {
      "image/png": "[encoded data removed]",
      "text/plain": [
       "<Figure size 800x500 with 1 Axes>"
      ]
     },
     "metadata": {},
     "output_type": "display_data"
    }
   ],
   "source": [
    "if all_data:\n",
    "    # Take first 5 per-attempt averages\n",
    "    subset = per_attempt_avg.head(5)\n",
    "\n",
    "    plt.figure(figsize=(8,5))\n",
    "    plt.bar(subset[\"attempt_file\"], subset[\"avg_time\"], label=\"Per-attempt avg\")\n",
    "    plt.axhline(overall_avg, color=\"red\", linestyle=\"--\", label=f\"Overall avg ({overall_avg:.3f}s)\")\n",
    "    plt.ylabel(\"Average Time (s)\")\n",
    "    plt.xlabel(\"Attempt File\")\n",
    "    plt.title(\"Average Reaction Time per Attempt (First 5)\")\n",
    "    plt.legend()\n",
    "    plt.show()\n",
    "else:\n",
    "    print(\"No data available to plot.\")\n"
   ]
  },
  {
   "cell_type": "code",
   "execution_count": 19,
   "id": "89c1a697",
   "metadata": {},
   "outputs": [
    {
     "name": "stdout",
     "output_type": "stream",
     "text": [
      "Overall: 12 correct out of 21 tries (57.14%)\n"
     ]
    },
    {
     "data": {
      "text/html": [
       "<div>\n",
       "<style scoped>\n",
       "    .dataframe tbody tr th:only-of-type {\n",
       "        vertical-align: middle;\n",
       "    }\n",
       "\n",
       "    .dataframe tbody tr th {\n",
       "        vertical-align: top;\n",
       "    }\n",
       "\n",
       "    .dataframe thead th {\n",
       "        text-align: right;\n",
       "    }\n",
       "</style>\n",
       "<table border=\"1\" class=\"dataframe\">\n",
       "  <thead>\n",
       "    <tr style=\"text-align: right;\">\n",
       "      <th></th>\n",
       "      <th>attempt_file</th>\n",
       "      <th>correct</th>\n",
       "      <th>tries</th>\n",
       "      <th>accuracy</th>\n",
       "    </tr>\n",
       "  </thead>\n",
       "  <tbody>\n",
       "    <tr>\n",
       "      <th>0</th>\n",
       "      <td>attempt1.csv</td>\n",
       "      <td>4</td>\n",
       "      <td>6</td>\n",
       "      <td>0.666667</td>\n",
       "    </tr>\n",
       "    <tr>\n",
       "      <th>1</th>\n",
       "      <td>attempt2.csv</td>\n",
       "      <td>2</td>\n",
       "      <td>2</td>\n",
       "      <td>1.000000</td>\n",
       "    </tr>\n",
       "    <tr>\n",
       "      <th>2</th>\n",
       "      <td>attempt3.csv</td>\n",
       "      <td>1</td>\n",
       "      <td>2</td>\n",
       "      <td>0.500000</td>\n",
       "    </tr>\n",
       "    <tr>\n",
       "      <th>3</th>\n",
       "      <td>attempt4.csv</td>\n",
       "      <td>2</td>\n",
       "      <td>4</td>\n",
       "      <td>0.500000</td>\n",
       "    </tr>\n",
       "    <tr>\n",
       "      <th>4</th>\n",
       "      <td>attempt5.csv</td>\n",
       "      <td>1</td>\n",
       "      <td>4</td>\n",
       "      <td>0.250000</td>\n",
       "    </tr>\n",
       "  </tbody>\n",
       "</table>\n",
       "</div>"
      ],
      "text/plain": [
       "   attempt_file  correct  tries  accuracy\n",
       "0  attempt1.csv        4      6  0.666667\n",
       "1  attempt2.csv        2      2  1.000000\n",
       "2  attempt3.csv        1      2  0.500000\n",
       "3  attempt4.csv        2      4  0.500000\n",
       "4  attempt5.csv        1      4  0.250000"
      ]
     },
     "metadata": {},
     "output_type": "display_data"
    }
   ],
   "source": [
    "combined[\"is_correct\"] = combined[\"result\"].astype(str).str.lower().str.startswith(\"correct\")\n",
    "\n",
    "# overall\n",
    "overall_correct = int(combined[\"is_correct\"].sum())\n",
    "overall_tries = int(len(combined))\n",
    "overall_acc = overall_correct / overall_tries if overall_tries else 0.0\n",
    "print(f\"Overall: {overall_correct} correct out of {overall_tries} tries ({overall_acc:.2%})\")\n",
    "\n",
    "# per-attempt (show first 5)\n",
    "per_attempt_correct = (\n",
    "    combined.groupby(\"attempt_file\")[\"is_correct\"]\n",
    "    .agg(correct=\"sum\", tries=\"count\")\n",
    "    .reset_index()\n",
    "    .assign(accuracy=lambda df: df[\"correct\"] / df[\"tries\"])\n",
    "    .sort_values(\"attempt_file\")\n",
    ")\n",
    "display(per_attempt_correct.head(5))\n"
   ]
  },
  {
   "cell_type": "code",
   "execution_count": 20,
   "id": "0ca303d9",
   "metadata": {},
   "outputs": [],
   "source": [
    "# save overall results\n",
    "correct_overall = pd.DataFrame([{\n",
    "    \"correct\": overall_correct,\n",
    "    \"tries\": overall_tries,\n",
    "    \"accuracy\": overall_acc\n",
    "}])"
   ]
  },
  {
   "cell_type": "code",
   "execution_count": 21,
   "id": "9a4e87b9",
   "metadata": {},
   "outputs": [
    {
     "data": {
      "image/png": "[encoded data removed]",
      "text/plain": [
       "<Figure size 800x500 with 1 Axes>"
      ]
     },
     "metadata": {},
     "output_type": "display_data"
    }
   ],
   "source": [
    "# Extract overall accuracy from the correct_overall DataFrame\n",
    "overall_accuracy = correct_overall.loc[0, \"accuracy\"]\n",
    "\n",
    "# Plot per-attempt accuracy (first 5) vs overall accuracy\n",
    "subset_acc = per_attempt_correct.head(5)\n",
    "\n",
    "plt.figure(figsize=(8,5))\n",
    "plt.bar(subset_acc[\"attempt_file\"], subset_acc[\"accuracy\"], label=\"Per-attempt accuracy\")\n",
    "plt.axhline(overall_accuracy, linestyle=\"--\", color=\"red\", \n",
    "            label=f\"Overall accuracy ({overall_accuracy:.2%})\")\n",
    "plt.ylim(0, 1)\n",
    "plt.ylabel(\"Accuracy\")\n",
    "plt.xlabel(\"Attempt File\")\n",
    "plt.title(\"Per-Attempt Accuracy (first 5) vs Overall Accuracy\")\n",
    "plt.xticks(rotation=45)\n",
    "plt.legend()\n",
    "plt.show()\n"
   ]
  }
 ],
 "metadata": {
  "kernelspec": {
   "display_name": "base",
   "language": "python",
   "name": "python3"
  },
  "language_info": {
   "codemirror_mode": {
    "name": "ipython",
    "version": 3
   },
   "file_extension": ".py",
   "mimetype": "text/x-python",
   "name": "python",
   "nbconvert_exporter": "python",
   "pygments_lexer": "ipython3",
   "version": "3.13.2"
  }
 },
 "nbformat": 4,
 "nbformat_minor": 5
}
